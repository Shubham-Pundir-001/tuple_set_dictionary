{
 "cells": [
  {
   "cell_type": "code",
   "execution_count": null,
   "metadata": {},
   "outputs": [],
   "source": [
    "##Q1. What are the characteristics of the tuples? Is tuple immutable?\n",
    "\n",
    "## tuple have indexed meaning we can access the element on the basis of the positon of a element in tuple\n",
    "## tuple is immutable meaning after creation of tuple we can not modifify it \n",
    "## tuple is collection of Heterogeneous element example string,int,float,list etc.\n",
    "##: Tuples can be iterated over in loops\n",
    "##we can not modify the content of tuple but can create new tuple  concatenating with existing one \n",
    "## yes tuple is immutablle"
   ]
  },
  {
   "cell_type": "code",
   "execution_count": null,
   "metadata": {},
   "outputs": [
    {
     "name": "stdout",
     "output_type": "stream",
     "text": [
      "3\n",
      "2\n"
     ]
    }
   ],
   "source": [
    "##Q2. What are the two tuple methods in python? Give an example of each method. Give a reason why\n",
    "##tuples have only two in-built methods as compared to Lists.\n",
    "## tuple have two methods 1 count 2 index\n",
    "## count reuturn number of times specifed value appear in tuple\n",
    "## index returns the index of first occurence of specfied value.Raise value error if the value not foundmy_tuple = (1, 2, 3, 2, 4, 2)\n",
    "my_tuple = (1, 2, 3, 2, 4, 2)\n",
    "print(my_tuple.count(2))  \n",
    "my_tuple = (10, 20, 30, 40, 50)\n",
    "print(my_tuple.index(30))\n",
    "## tuple have only built in method because tuple is immutable once created can not be modified.method like append,extend\n",
    "## remove,pop are not applicable"
   ]
  },
  {
   "cell_type": "code",
   "execution_count": 18,
   "metadata": {},
   "outputs": [
    {
     "data": {
      "text/plain": [
       "[1, 2, 3, 4]"
      ]
     },
     "execution_count": 18,
     "metadata": {},
     "output_type": "execute_result"
    }
   ],
   "source": [
    "###Q3. Which collection datatypes in python do not allow duplicate items? Write a code using a set to remove\n",
    "##duplicates from the given list.\n",
    "Lis = [1, 1, 1, 2, 1, 3, 1, 4, 2, 1, 2, 2, 2, 3, 2, 4, 3, 1, 3, 2, 3, 3, 3, 4, 4, 1, 4, 2, 4, 3, 4, 4]\n",
    "## set in python do not allow duplicate item.frozen set ,and dict where key are immutable but  values are mutable\n",
    "list1=list(set(Lis))\n",
    "list1"
   ]
  },
  {
   "cell_type": "code",
   "execution_count": null,
   "metadata": {},
   "outputs": [],
   "source": [
    "##Q4. Explain the difference between the union() and update() methods for a set. Give an example of\n",
    "##each method.\n",
    "## union return new set that contains unique element without modfiying the original set \n",
    "## update adds elements form another sets and does not return new set"
   ]
  },
  {
   "cell_type": "code",
   "execution_count": null,
   "metadata": {},
   "outputs": [],
   "source": [
    "##Q5. What is a dictionary? Give an example. Also, state whether a dictionary is ordered or unordered.\n",
    "## dictionary is data strcture in python where values are stored in key-value pair and key are unique\n",
    "## unordered in python version before 3.7 and ordered in python version 3.7 and later\n"
   ]
  },
  {
   "cell_type": "code",
   "execution_count": 22,
   "metadata": {},
   "outputs": [
    {
     "data": {
      "text/plain": [
       "5"
      ]
     },
     "execution_count": 22,
     "metadata": {},
     "output_type": "execute_result"
    }
   ],
   "source": [
    "##Q6. Can we create a nested dictionary? If so, please give an example by creating a simple one-level\n",
    "##nested dictionary.\n",
    "dic={\"a\":{\"b\":5}}\n",
    "dic[\"a\"][\"b\"]"
   ]
  },
  {
   "cell_type": "code",
   "execution_count": 26,
   "metadata": {},
   "outputs": [
    {
     "data": {
      "text/plain": [
       "{'language': 'Python',\n",
       " 'course': 'Data Science Masters',\n",
       " 'topic': ['Python', 'Machine Learning', 'Deep Learning']}"
      ]
     },
     "execution_count": 26,
     "metadata": {},
     "output_type": "execute_result"
    }
   ],
   "source": [
    "##Q7. Using setdefault() method, create key named topics in the given dictionary and also add the value of\n",
    "##the key as this \n",
    "dict1 = {'language' : 'Python', 'course': 'Data Science Masters'}\n",
    "lis=['Python', 'Machine Learning', 'Deep Learning']\n",
    "dict1[\"topic\"]=lis\n",
    "dict1\n"
   ]
  },
  {
   "cell_type": "code",
   "execution_count": 29,
   "metadata": {},
   "outputs": [],
   "source": [
    "##Q8. What are the three view objects in dictionaries? Use the three in-built methods in python to display\n",
    "##these three view objects for the given dictionary.\n",
    "dict1 = {'Sport': 'Cricket' , 'Teams': ['India', 'Australia', 'England', 'South Africa', 'Sri Lanka', 'New Zealand']}\n",
    "##dict.keys() — Returns a view of all the keys in the dictionary.\n",
    "\n",
    "##dict.values() — Returns a view of all the values in the dictionary.\n",
    "\n",
    "##dict.items() — Returns a view of all the key-value pairs as tuples."
   ]
  }
 ],
 "metadata": {
  "kernelspec": {
   "display_name": "base",
   "language": "python",
   "name": "python3"
  },
  "language_info": {
   "codemirror_mode": {
    "name": "ipython",
    "version": 3
   },
   "file_extension": ".py",
   "mimetype": "text/x-python",
   "name": "python",
   "nbconvert_exporter": "python",
   "pygments_lexer": "ipython3",
   "version": "3.12.7"
  }
 },
 "nbformat": 4,
 "nbformat_minor": 2
}
